{
 "cells": [
  {
   "cell_type": "markdown",
   "metadata": {},
   "source": [
    "## Introduction\n",
    "\n",
    "Although immigration has become a hot topic over the past few years with more governments seeking more restrictions on immigrants and refugees, the general trend of immigration into Canada has been one of on the rise. With more people entering the country from different parts of the world comes more diversity of culture, values and shifts in social norms. Increased population also brings opportunity from a business perspective. A restaurant with a cuisine deemed foreign some decades ago may have been less popular since little was known about it and its origins. However, over time, with more diversity and knowledge sharing and understanding, what was once foreign is now less unfamiliar and as a result, such a restaurant in this day and age my not only be accepted but thrive. \n",
    "\n",
    "The aim of this project is to be able to explore the possibilities of where a restaurant or food vendor with an emerging cuisine type could now be established in Toronto and hopefully thrive. A major benefit of pursuing this type of project is that if it is successful, it could help future restaurateurs to determine where next to focus their efforts in bringing a not-so-mainstream cuisine to the population of Toronto.\n",
    "\n",
    "### Selection criteria\n",
    "For the purposes of this project, the definition of an emerging cuisine, is one that has an appreciable commercial presence within a given community but is not:\n",
    "1.\tAssociated with a geographic location\n",
    "2.\tAssociated with a major fast food chain\n",
    "\n",
    "Toronto, like many other global cities, has areas where specific cuisines are dominant \n",
    "(https://en.wikipedia.org/wiki/Cuisine_in_Toronto):\n",
    "* Eglinton West - Caribbean food\n",
    "* Roncesvalles - Polish cuisine\n",
    "* Chinatown - Chinese and Vietnamese food\n",
    "* Kensington Market - Latin American and others\n",
    "* Little Italy and Corso Italia - Italian\n",
    "* Gerrard India Bazaar and Rexdale - Indian, Punjabi, Pakistani\n",
    "* Agincourt - Chinese, Korean, Japanese, Vietnamese, South Indian, Sri Lankan\n",
    "* Koreatown - Korean\n",
    "* Little Portugal/Rua Acores - Portuguese\n",
    "* The Danforth - Greek\n",
    "* The Annex – Hungarian\n",
    "\n",
    "As such, since these cuisines are synonymous with location, they are assumed to be established cuisines and thus fail condition 1 of the selection criteria.\n",
    "\n",
    "The following were identified as fast food chains in Canada (https://en.wikipedia.org/wiki/List_of_fast-food_chains_in_Canada):\n",
    "\n",
    " |  |  |   \n",
    "--- | --- | --- | --- \n",
    "A&W | Dairy Queen| KFC| Robin's Donuts\n",
    "Arby's| Dic Ann's Hamburgers| Krispy Kreme| Subway\n",
    "Baker's Dozen Donuts| Dixie Lee Fried Chicken| Lafleur Restaurants| Swiss Chalet\n",
    "La Belle Province| Domino's| Lick's Homeburgers| Taco Bell\n",
    "Blimpie| Donut Diner| Manchu Wok| Taco del Mar\n",
    "Booster Juice| Edo Japan| Mary Brown's| Taco Time\n",
    "Burger Baron| Extreme Pita| McDonald's Canada| Thaï Express\n",
    "Burger King| Fast Eddies| Mr. Sub| Tim Hortons\n",
    "Captain Submarine| Five Guys| New York Fries| Valentine\n",
    "Carl's Jr.| Fryer's| Orange Julius| Wendy's\n",
    "Chez Ashton| Goji's| Papa John's| White Spot\n",
    "Chicken Delight| Greco Pizza| Pita Pit| Williams Fresh Cafe\n",
    "Cinnabon| Harvey's| Pizza Hut| Yogen Früz\n",
    "Coffee Time| Hero Certified Burgers| Popeyes Louisiana Kitchen| Country Style\n",
    "Jimmy the Greek| Quiznos\n",
    "\n",
    "As such, cuisines associated with these chains will also be excluded from the emerging cuisines category.\n",
    "\n",
    "Lastly, for a cuisine to be emerging, it needs to be already present within the community as opposed to completely new which would make the cuisine a pioneering one. If no restaurant/ food vendor for a specific cuisine exists e.g. Nauru ethinc food, such a cuisine is disqualified. \n",
    "\n",
    "Following all the selection criteria, the choice for this project was chosen to be cuisines of **Ethiopian** origin."
   ]
  },
  {
   "attachments": {},
   "cell_type": "markdown",
   "metadata": {},
   "source": [
    "## Data\n",
    "This project will require knowledge of the different neighbourhoods in Toronto and the cuisines they do or do not possess. As such the neighbourhood data required will be:\n",
    "* Neighbourhood location in terms of latitude and longitude.\n",
    "* Restaurants/food vendor within the neighbourhood. \n",
    "* For each reach restaurant/food vendor in the neighbourhood, whether the cuisine is emerging or not will need to be derived.\n",
    "\n",
    "Neighbourhood locations can be retrieved by pooling resources from Wikipedia \n",
    "(https://en.wikipedia.org/wiki/List_of_postal_codes_of_Canada:_M) which possesses a list of neighbourhoods in the Toronto area and use of a geo locator to determine the latitude and longitude of each area.\n",
    "\n",
    "Foursquare is a location data provider with information about all manner of venues and events within an area of interest. Such information includes venue names, locations, tips relating to these venues, menus and even photos. As such, the Foursquare location platform will be used as the sole data source since all the stated required information can be obtained through the API.\n",
    "\n",
    "### Approach\n",
    "The intention is to explore similarities between neighbourhoods based on the restaurants/food vendors present. From this, it may then be possible to ascertain whether the emerging cuisine in one neighbourhood could be established in another neighbourhood. It might also be possible to ascertain if the emerging food could increase its presence in a neighbourhood where it already exists."
   ]
  },
  {
   "cell_type": "code",
   "execution_count": null,
   "metadata": {},
   "outputs": [],
   "source": []
  }
 ],
 "metadata": {
  "kernelspec": {
   "display_name": "Python 3",
   "language": "python",
   "name": "python3"
  },
  "language_info": {
   "codemirror_mode": {
    "name": "ipython",
    "version": 3
   },
   "file_extension": ".py",
   "mimetype": "text/x-python",
   "name": "python",
   "nbconvert_exporter": "python",
   "pygments_lexer": "ipython3",
   "version": "3.6.5"
  }
 },
 "nbformat": 4,
 "nbformat_minor": 2
}
